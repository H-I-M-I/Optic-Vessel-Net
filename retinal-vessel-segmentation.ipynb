{
 "cells": [
  {
   "cell_type": "markdown",
   "id": "a4a94914",
   "metadata": {
    "execution": {
     "iopub.execute_input": "2022-03-10T09:38:39.933797Z",
     "iopub.status.busy": "2022-03-10T09:38:39.933468Z",
     "iopub.status.idle": "2022-03-10T09:38:52.484879Z",
     "shell.execute_reply": "2022-03-10T09:38:52.4838Z",
     "shell.execute_reply.started": "2022-03-10T09:38:39.933712Z"
    },
    "papermill": {
     "duration": 0.055851,
     "end_time": "2023-03-13T18:32:23.161539",
     "exception": false,
     "start_time": "2023-03-13T18:32:23.105688",
     "status": "completed"
    },
    "tags": []
   },
   "source": [
    "# Retinal Vessel\n"
   ]
  },
  {
   "cell_type": "code",
   "execution_count": null,
   "id": "ee2e45c4",
   "metadata": {
    "_cell_guid": "b1076dfc-b9ad-4769-8c92-a6c4dae69d19",
    "_kg_hide-output": true,
    "_uuid": "8f2839f25d086af736a60e9eeb907d3b93b6e0e5",
    "execution": {
     "iopub.execute_input": "2023-03-13T18:32:23.277891Z",
     "iopub.status.busy": "2023-03-13T18:32:23.277088Z",
     "iopub.status.idle": "2023-03-13T18:32:39.209240Z",
     "shell.execute_reply": "2023-03-13T18:32:39.208637Z",
     "shell.execute_reply.started": "2022-10-11T11:01:37.336450Z"
    },
    "papermill": {
     "duration": 15.996046,
     "end_time": "2023-03-13T18:32:39.209392",
     "exception": false,
     "start_time": "2023-03-13T18:32:23.213346",
     "status": "completed"
    },
    "tags": []
   },
   "outputs": [],
   "source": [
    "\n",
    "from PIL import Image\n",
    "import numpy as np # linear algebra\n",
    "import pandas as pd # data processing, CSV file I/O (e.g. pd.read_csv)\n",
    "import os\n",
    "os.environ['TF_CPP_MIN_LOG_LEVEL'] = '3'\n",
    "os.environ[\"SM_FRAMEWORK\"] = \"tf.keras\"\n",
    "\n",
    "import segmentation_models as sm\n",
    "import matplotlib.pyplot as plt \n",
    "import tensorflow_io as tfio\n",
    "import tensorflow as tf\n",
    "from sklearn.model_selection import train_test_split\n",
    "\n",
    "\n",
    "root = '../input/retinal-vessel-segmentation'\n",
    "exts = ('jpg', 'JPG', 'png', 'PNG', 'tif', 'gif', 'ppm')"
   ]
  },
  {
   "cell_type": "markdown",
   "id": "890aa6fc",
   "metadata": {
    "papermill": {
     "duration": 0.052643,
     "end_time": "2023-03-13T18:32:39.314775",
     "exception": false,
     "start_time": "2023-03-13T18:32:39.262132",
     "status": "completed"
    },
    "tags": []
   },
   "source": [
    "# DRIVE\n",
    "\n",
    "The dataset comes with pair of input retina image and target mask. Among all retina image, we will only use this dataset for a quick baseline. However, rest of the dataset can be replaces easily on this pipeline.\n"
   ]
  },
  {
   "cell_type": "markdown",
   "id": "a7d87e14",
   "metadata": {
    "papermill": {
     "duration": 0.052586,
     "end_time": "2023-03-13T18:32:39.420321",
     "exception": false,
     "start_time": "2023-03-13T18:32:39.367735",
     "status": "completed"
    },
    "tags": []
   },
   "source": [
    "## Preprocessing Images"
   ]
  },
  {
   "cell_type": "code",
   "execution_count": 2,
   "id": "d124a5e7",
   "metadata": {
    "execution": {
     "iopub.execute_input": "2023-03-13T18:32:39.536369Z",
     "iopub.status.busy": "2023-03-13T18:32:39.535385Z",
     "iopub.status.idle": "2023-03-13T18:32:39.541576Z",
     "shell.execute_reply": "2023-03-13T18:32:39.541987Z",
     "shell.execute_reply.started": "2022-10-11T11:01:53.378247Z"
    },
    "papermill": {
     "duration": 0.068783,
     "end_time": "2023-03-13T18:32:39.542170",
     "exception": false,
     "start_time": "2023-03-13T18:32:39.473387",
     "status": "completed"
    },
    "tags": []
   },
   "outputs": [],
   "source": [
    "def restrict_normalized(imgs):\n",
    "    imgs_normalized = np.empty(imgs.shape)\n",
    "    imgs_std = np.std(imgs)\n",
    "    imgs_mean = np.mean(imgs)\n",
    "    imgs_normalized = (imgs-imgs_mean)/imgs_std\n",
    "    imgs_normalized = ((imgs_normalized - np.min(imgs_normalized)) / (np.max(imgs_normalized)-np.min(imgs_normalized)))*255\n",
    "    return imgs_normalized\n",
    "\n",
    "# CLAHE (Contrast Limited Adaptive Histogram Equalization)\n",
    "#adaptive histogram equalization is used. In this, image is divided into small blocks called \"tiles\" (tileSize is 8x8 by default in OpenCV). Then each of these blocks are histogram equalized as usual. So in a small area, histogram would confine to a small region (unless there is noise). If noise is there, it will be amplified. To avoid this, contrast limiting is applied. If any histogram bin is above the specified contrast limit (by default 40 in OpenCV), those pixels are clipped and distributed uniformly to other bins before applying histogram equalization. After equalization, to remove artifacts in tile borders, bilinear interpolation is applied\n",
    "def clahe_equalized(imgs):\n",
    "  clahe = cv2.createCLAHE(clipLimit=4.0, tileGridSize=(16,16))\n",
    "  imgs_equalized = np.empty(imgs.shape)\n",
    "  imgs_equalized = clahe.apply(np.array(imgs, dtype = np.uint8))\n",
    "  return imgs_equalized\n",
    "\n",
    "def normalized(imgs):\n",
    "  imgs_normalized =np.empty(imgs.shape)\n",
    "  imgs_normalized =cv2.equalizeHist(imgs)\n",
    "  return imgs_normalized\n",
    "\n",
    "def adjust_gamma(imgs, gamma=1.0):\n",
    "  invGamma = 1.0 / gamma\n",
    "  table = np.array([((i / 255.0) ** invGamma) * 255 for i in np.arange(0, 256)]).astype(\"uint8\")\n",
    "  # apply gamma correction using the lookup table\n",
    "  new_imgs = np.empty(imgs.shape)\n",
    "  new_imgs = cv2.LUT(np.array(imgs, dtype = np.uint8), table)\n",
    "  return new_imgs\n",
    "\n",
    "def expand(image):\n",
    "  arr = np.zeros(image.shape + (3,))\n",
    "  arr[:,:,0] = image[:,:]\n",
    "  arr[:,:,1] = image[:,:]\n",
    "  arr[:,:,2] = image[:,:]\n",
    "  return arr\n",
    "\n",
    "def preprocess(image):\n",
    "  image=restrict_normalized(image)\n",
    "  image=clahe_equalized(image)\n",
    "  image=adjust_gamma(image,1.2)\n",
    "  image=image/255.0\n",
    "  image=expand(image)\n",
    "  return image"
   ]
  },
  {
   "cell_type": "code",
   "execution_count": null,
   "id": "0e04ff0c",
   "metadata": {
    "execution": {
     "iopub.execute_input": "2023-03-13T18:32:39.655127Z",
     "iopub.status.busy": "2023-03-13T18:32:39.654512Z",
     "iopub.status.idle": "2023-03-13T18:32:41.212742Z",
     "shell.execute_reply": "2023-03-13T18:32:41.213254Z",
     "shell.execute_reply.started": "2022-10-11T11:01:54.821709Z"
    },
    "papermill": {
     "duration": 1.617505,
     "end_time": "2023-03-13T18:32:41.213457",
     "exception": false,
     "start_time": "2023-03-13T18:32:39.595952",
     "status": "completed"
    },
    "tags": []
   },
   "outputs": [],
   "source": [
    "import cv2\n",
    "from PIL import Image\n",
    "\n",
    "processed_path = './Processed_images_Drive'\n",
    "\n",
    "os.mkdir(path=processed_path)\n",
    "directory = '../input/retinal-vessel-segmentation/DRIVE/training/images/'\n",
    "for fname in os.listdir(directory):\n",
    "    image = plt.imread(directory + fname)\n",
    "    image = image[:,:,1]\n",
    "    processed_img = preprocess(image)\n",
    "    print(processed_img.shape)\n",
    "    processed_img = Image.fromarray((processed_img * 255).astype(np.uint8))\n",
    "    processed_img.save(processed_path + '/' + fname)"
   ]
  },
  {
   "cell_type": "code",
   "execution_count": null,
   "id": "b8ed7ca0",
   "metadata": {
    "execution": {
     "iopub.execute_input": "2023-03-13T18:32:41.325208Z",
     "iopub.status.busy": "2023-03-13T18:32:41.324426Z",
     "iopub.status.idle": "2023-03-13T18:32:41.354312Z",
     "shell.execute_reply": "2023-03-13T18:32:41.353879Z",
     "shell.execute_reply.started": "2022-10-11T11:01:56.863362Z"
    },
    "papermill": {
     "duration": 0.086678,
     "end_time": "2023-03-13T18:32:41.354448",
     "exception": false,
     "start_time": "2023-03-13T18:32:41.267770",
     "status": "completed"
    },
    "tags": []
   },
   "outputs": [],
   "source": [
    "input_data = os.path.join('./', 'Processed_images_Drive')\n",
    "images = sorted(\n",
    "    [\n",
    "        os.path.join(input_data, fname)\n",
    "        for fname in os.listdir('./Processed_images_Drive')\n",
    "        if fname.endswith(exts) and not fname.startswith(\".\")\n",
    "    ]\n",
    ")\n",
    "\n",
    "\n",
    "target_data = os.path.join(root, 'DRIVE/training/1st_manual')\n",
    "masks = sorted(\n",
    "    [\n",
    "        os.path.join(target_data, fname)\n",
    "        for fname in os.listdir(target_data)\n",
    "        if fname.endswith(exts) and not fname.startswith(\".\")\n",
    "    ]\n",
    ")\n",
    "\n",
    "print(\"Number of samples:\", len(images), len(masks))\n",
    "for input_path, target_path in zip(images[:10], masks[:10]):\n",
    "    print(input_path[-31:], \"|\", target_path[-34:])"
   ]
  },
  {
   "cell_type": "code",
   "execution_count": null,
   "id": "92a03574",
   "metadata": {
    "execution": {
     "iopub.execute_input": "2023-03-13T18:32:41.465794Z",
     "iopub.status.busy": "2023-03-13T18:32:41.465147Z",
     "iopub.status.idle": "2023-03-13T18:32:41.806238Z",
     "shell.execute_reply": "2023-03-13T18:32:41.806799Z",
     "shell.execute_reply.started": "2022-10-11T11:01:57.872889Z"
    },
    "papermill": {
     "duration": 0.399354,
     "end_time": "2023-03-13T18:32:41.806991",
     "exception": false,
     "start_time": "2023-03-13T18:32:41.407637",
     "status": "completed"
    },
    "tags": []
   },
   "outputs": [],
   "source": [
    "imagesss = cv2.imread('./Processed_images_Drive/22_training.tif')\n",
    "print(imagesss.shape)\n",
    "plt.imshow(imagesss)"
   ]
  },
  {
   "cell_type": "code",
   "execution_count": null,
   "id": "557df244",
   "metadata": {
    "execution": {
     "iopub.execute_input": "2023-03-13T18:32:44.805292Z",
     "iopub.status.busy": "2023-03-13T18:32:44.804482Z",
     "iopub.status.idle": "2023-03-13T18:32:45.294361Z",
     "shell.execute_reply": "2023-03-13T18:32:45.294995Z",
     "shell.execute_reply.started": "2022-10-11T11:01:59.067396Z"
    },
    "papermill": {
     "duration": 3.424142,
     "end_time": "2023-03-13T18:32:45.295158",
     "exception": false,
     "start_time": "2023-03-13T18:32:41.871016",
     "status": "completed"
    },
    "tags": []
   },
   "outputs": [],
   "source": [
    "IMAGE_SIZE = 512\n",
    "BATCH_SIZE = 12\n",
    "\n",
    "def read_files(image_path, mask=False):\n",
    "    image = tf.io.read_file(image_path)\n",
    "    if mask:\n",
    "        image = tf.io.decode_gif(image) # out: (1, h, w, 3)\n",
    "        image = tf.squeeze(image) # out: (h, w, 3)\n",
    "        image = tf.image.rgb_to_grayscale(image) # out: (h, w, 1)\n",
    "        image = tf.divide(image, 128)\n",
    "        image.set_shape([None, None, 1])\n",
    "        image = tf.image.resize(images=image, size=[IMAGE_SIZE, IMAGE_SIZE])\n",
    "        image = tf.cast(image, tf.int32)\n",
    "    else:\n",
    "        image = tfio.experimental.image.decode_tiff(image) # out: (h, w, 4)\n",
    "        image = image[:,:,:3] # out: (h, w, 3)\n",
    "        image.set_shape([None, None, 3])\n",
    "        image = tf.image.resize(images=image, size=[IMAGE_SIZE, IMAGE_SIZE])\n",
    "        image = image / 255.\n",
    "    return image\n",
    "\n",
    "def load_data(image_list, mask_list):\n",
    "    image = read_files(image_list)\n",
    "    mask  = read_files(mask_list, mask=True)\n",
    "    return image, mask\n",
    "\n",
    "def data_generator(image_list, mask_list):\n",
    "    dataset = tf.data.Dataset.from_tensor_slices((image_list, mask_list))\n",
    "    dataset = dataset.map(load_data, num_parallel_calls=tf.data.AUTOTUNE)\n",
    "    dataset1 = dataset.take(15)\n",
    "    dataset2 = dataset.skip(15)\n",
    "    dataset1 = dataset1.batch(BATCH_SIZE, drop_remainder=False)\n",
    "    dataset2 = dataset2.batch(2, drop_remainder=False)\n",
    "    return dataset1, dataset2\n",
    "\n",
    "train_dataset, valid_dataset = data_generator(images, masks)\n",
    "train_dataset, valid_dataset"
   ]
  },
  {
   "cell_type": "code",
   "execution_count": 7,
   "id": "dfc3bc43",
   "metadata": {
    "execution": {
     "iopub.execute_input": "2023-03-13T18:32:45.419822Z",
     "iopub.status.busy": "2023-03-13T18:32:45.418321Z",
     "iopub.status.idle": "2023-03-13T18:32:45.420489Z",
     "shell.execute_reply": "2023-03-13T18:32:45.420906Z",
     "shell.execute_reply.started": "2022-10-11T11:02:02.420096Z"
    },
    "papermill": {
     "duration": 0.066726,
     "end_time": "2023-03-13T18:32:45.421045",
     "exception": false,
     "start_time": "2023-03-13T18:32:45.354319",
     "status": "completed"
    },
    "tags": []
   },
   "outputs": [],
   "source": [
    "def visualize(**images):\n",
    "    \"\"\"PLot images in one row.\"\"\"\n",
    "    n = len(images) \n",
    "    plt.figure(figsize=(20, 20))\n",
    "    for i, (name, image) in enumerate(images.items()):\n",
    "        plt.subplot(1, n, i + 1)\n",
    "        plt.xticks([])\n",
    "        plt.yticks([])\n",
    "        plt.title(' '.join(name.split('_')).title())\n",
    "        plt.imshow(image, cmap='gray')\n",
    "    plt.show()"
   ]
  },
  {
   "cell_type": "code",
   "execution_count": null,
   "id": "378bfeac",
   "metadata": {
    "execution": {
     "iopub.execute_input": "2023-03-13T18:32:45.541363Z",
     "iopub.status.busy": "2023-03-13T18:32:45.540681Z",
     "iopub.status.idle": "2023-03-13T18:32:48.645846Z",
     "shell.execute_reply": "2023-03-13T18:32:48.646289Z",
     "shell.execute_reply.started": "2022-10-11T11:02:02.427846Z"
    },
    "papermill": {
     "duration": 3.169016,
     "end_time": "2023-03-13T18:32:48.646466",
     "exception": false,
     "start_time": "2023-03-13T18:32:45.477450",
     "status": "completed"
    },
    "tags": []
   },
   "outputs": [],
   "source": [
    "image, mask = next(iter(train_dataset.take(1))) \n",
    "print(image.shape, mask.shape)\n",
    "\n",
    "for (img, msk) in zip(image[:5], mask[:5]):\n",
    "    print(mask.numpy().min(), mask.numpy().max())\n",
    "    print(np.unique(mask.numpy()))\n",
    "    visualize(\n",
    "        image=img.numpy(),\n",
    "        gt_mask=msk.numpy(),\n",
    "    )"
   ]
  },
  {
   "cell_type": "markdown",
   "id": "1c5a7768",
   "metadata": {
    "papermill": {
     "duration": 0.104719,
     "end_time": "2023-03-13T18:32:48.856756",
     "exception": false,
     "start_time": "2023-03-13T18:32:48.752037",
     "status": "completed"
    },
    "tags": []
   },
   "source": [
    "# Model"
   ]
  },
  {
   "cell_type": "code",
   "execution_count": null,
   "id": "a798286d",
   "metadata": {
    "execution": {
     "iopub.execute_input": "2023-03-13T18:32:49.074909Z",
     "iopub.status.busy": "2023-03-13T18:32:49.074151Z",
     "iopub.status.idle": "2023-03-13T18:32:54.405051Z",
     "shell.execute_reply": "2023-03-13T18:32:54.404511Z",
     "shell.execute_reply.started": "2022-10-11T11:02:31.036479Z"
    },
    "papermill": {
     "duration": 5.444092,
     "end_time": "2023-03-13T18:32:54.405214",
     "exception": false,
     "start_time": "2023-03-13T18:32:48.961122",
     "status": "completed"
    },
    "tags": []
   },
   "outputs": [],
   "source": [
    "from tensorflow import keras \n",
    "\n",
    "# Free up RAM in case the model definition cells were run multiple times\n",
    "keras.backend.clear_session()\n",
    "BACKBONE   = 'vgg19'\n",
    "n_classes  = 1 \n",
    "activation = 'sigmoid' \n",
    "model = sm.Unet(BACKBONE, classes=n_classes, activation=activation)\n",
    "model.summary(line_length=110)"
   ]
  },
  {
   "cell_type": "markdown",
   "id": "22b93b05",
   "metadata": {
    "papermill": {
     "duration": 0.133986,
     "end_time": "2023-03-13T18:32:54.664170",
     "exception": false,
     "start_time": "2023-03-13T18:32:54.530184",
     "status": "completed"
    },
    "tags": []
   },
   "source": [
    "# Callback : Monitoring Training Progress"
   ]
  },
  {
   "cell_type": "code",
   "execution_count": 10,
   "id": "7b309e1a",
   "metadata": {
    "execution": {
     "iopub.execute_input": "2023-03-13T18:32:54.929219Z",
     "iopub.status.busy": "2023-03-13T18:32:54.926394Z",
     "iopub.status.idle": "2023-03-13T18:32:54.931928Z",
     "shell.execute_reply": "2023-03-13T18:32:54.931403Z",
     "shell.execute_reply.started": "2022-10-11T11:02:53.155161Z"
    },
    "papermill": {
     "duration": 0.140773,
     "end_time": "2023-03-13T18:32:54.932055",
     "exception": false,
     "start_time": "2023-03-13T18:32:54.791282",
     "status": "completed"
    },
    "tags": []
   },
   "outputs": [],
   "source": [
    "class DisplayCallback(keras.callbacks.Callback):\n",
    "    def __init__(self, dataset, epoch_interval=5):\n",
    "        self.dataset = dataset\n",
    "        self.epoch_interval = epoch_interval\n",
    "    \n",
    "    def display(self, display_list, extra_title=''):\n",
    "        plt.figure(figsize=(15, 15))\n",
    "        title = ['Input Image', 'True Mask', 'Predicted Mask']\n",
    "\n",
    "        if len(display_list) > len(title):\n",
    "            title.append(extra_title)\n",
    "\n",
    "        for i in range(len(display_list)):\n",
    "            plt.subplot(1, len(display_list), i+1)\n",
    "            plt.title(title[i])\n",
    "            plt.imshow(display_list[i], cmap='gray')\n",
    "            plt.axis('off')\n",
    "        plt.show()\n",
    "        \n",
    "    def create_mask(self, pred_mask):\n",
    "        pred_mask = (pred_mask > 0.5).astype(\"int32\")\n",
    "        return pred_mask[0]\n",
    "    \n",
    "    def show_predictions(self, dataset, num=1):\n",
    "        for image, mask in dataset.take(num):\n",
    "            pred_mask = model.predict(image)\n",
    "            self.display([image[0], mask[0], self.create_mask(pred_mask)])\n",
    "        \n",
    "    def on_epoch_end(self, epoch, logs=None):\n",
    "        if epoch and epoch % self.epoch_interval == 0:\n",
    "            self.show_predictions(self.dataset)\n",
    "            print ('\\nSample Prediction after epoch {}\\n'.format(epoch+1))"
   ]
  },
  {
   "cell_type": "markdown",
   "id": "613a4a49",
   "metadata": {
    "papermill": {
     "duration": 0.128732,
     "end_time": "2023-03-13T18:32:55.192912",
     "exception": false,
     "start_time": "2023-03-13T18:32:55.064180",
     "status": "completed"
    },
    "tags": []
   },
   "source": [
    "# Compile and Fit"
   ]
  },
  {
   "cell_type": "code",
   "execution_count": null,
   "id": "4465a3a4",
   "metadata": {
    "execution": {
     "iopub.execute_input": "2023-03-13T18:32:55.457612Z",
     "iopub.status.busy": "2023-03-13T18:32:55.456685Z",
     "iopub.status.idle": "2023-03-13T18:47:26.932241Z",
     "shell.execute_reply": "2023-03-13T18:47:26.931578Z",
     "shell.execute_reply.started": "2022-10-11T11:02:55.959039Z"
    },
    "papermill": {
     "duration": 871.614169,
     "end_time": "2023-03-13T18:47:26.932404",
     "exception": false,
     "start_time": "2023-03-13T18:32:55.318235",
     "status": "completed"
    },
    "tags": []
   },
   "outputs": [],
   "source": [
    "from keras.callbacks import Callback, ModelCheckpoint, ReduceLROnPlateau\n",
    "\n",
    "# define optomizer\n",
    "optim = keras.optimizers.Adam(0.0003)\n",
    "bce   = keras.losses.BinaryCrossentropy()\n",
    "metrics = [\"accuracy\"]\n",
    "\n",
    "# compile keras model with defined optimozer, loss and metrics\n",
    "model.compile(optim, bce, metrics)\n",
    "\n",
    "filepath = './unet_backbone_vgg19.h5'\n",
    "checkpoint = ModelCheckpoint(filepath, monitor='val_accuracy', verbose=1, save_best_only=True, mode='max')\n",
    "rlrop = ReduceLROnPlateau(monitor='val_accuracy', mode='max', patience=5, factor=0.6, min_lr=1e-7, verbose=1)\n",
    "\n",
    "history = model.fit(\n",
    "    train_dataset,\n",
    "    epochs=400,\n",
    "    callbacks=[DisplayCallback(train_dataset), checkpoint, rlrop],\n",
    "    validation_data=valid_dataset\n",
    ")"
   ]
  },
  {
   "cell_type": "code",
   "execution_count": null,
   "id": "7b08fcbe",
   "metadata": {
    "execution": {
     "iopub.execute_input": "2023-03-13T18:47:28.976167Z",
     "iopub.status.busy": "2023-03-13T18:47:28.975286Z",
     "iopub.status.idle": "2023-03-13T18:47:29.397664Z",
     "shell.execute_reply": "2023-03-13T18:47:29.397170Z",
     "shell.execute_reply.started": "2022-10-11T11:19:44.032299Z"
    },
    "papermill": {
     "duration": 1.45304,
     "end_time": "2023-03-13T18:47:29.397798",
     "exception": false,
     "start_time": "2023-03-13T18:47:27.944758",
     "status": "completed"
    },
    "tags": []
   },
   "outputs": [],
   "source": [
    "# plot the loss\n",
    "plt.plot(history.history['loss'], label='training loss')\n",
    "plt.plot(history.history['val_loss'], label='validation loss')\n",
    "plt.legend()\n",
    "plt.show()\n",
    "#plt.savefig('LossVal_loss')\n",
    "\n",
    "# plot the accuracy\n",
    "plt.plot(history.history['accuracy'], label='training accuracy')\n",
    "plt.plot(history.history['val_accuracy'], label='validation accuracy')\n",
    "plt.legend()\n",
    "plt.show()\n",
    "#plt.savefig('AccVal_acc')"
   ]
  },
  {
   "cell_type": "code",
   "execution_count": 13,
   "id": "0b6a2c12",
   "metadata": {
    "execution": {
     "iopub.execute_input": "2023-03-13T18:47:31.469608Z",
     "iopub.status.busy": "2023-03-13T18:47:31.462513Z",
     "iopub.status.idle": "2023-03-13T18:47:32.224709Z",
     "shell.execute_reply": "2023-03-13T18:47:32.225462Z",
     "shell.execute_reply.started": "2022-10-11T11:19:51.591228Z"
    },
    "papermill": {
     "duration": 1.798765,
     "end_time": "2023-03-13T18:47:32.225720",
     "exception": false,
     "start_time": "2023-03-13T18:47:30.426955",
     "status": "completed"
    },
    "tags": []
   },
   "outputs": [],
   "source": [
    "tf.keras.models.save_model(model, './unet_backbone2_vgg19.h5')"
   ]
  },
  {
   "cell_type": "markdown",
   "id": "089c4596",
   "metadata": {
    "papermill": {
     "duration": 1.019323,
     "end_time": "2023-03-13T18:47:34.656341",
     "exception": false,
     "start_time": "2023-03-13T18:47:33.637018",
     "status": "completed"
    },
    "tags": []
   },
   "source": [
    "## Evaluating Functions"
   ]
  },
  {
   "cell_type": "code",
   "execution_count": 14,
   "id": "c1d6d9e5",
   "metadata": {
    "execution": {
     "iopub.execute_input": "2023-03-13T18:47:36.731778Z",
     "iopub.status.busy": "2023-03-13T18:47:36.730698Z",
     "iopub.status.idle": "2023-03-13T18:47:36.736925Z",
     "shell.execute_reply": "2023-03-13T18:47:36.737823Z",
     "shell.execute_reply.started": "2022-10-11T11:19:57.331931Z"
    },
    "papermill": {
     "duration": 1.067664,
     "end_time": "2023-03-13T18:47:36.738130",
     "exception": false,
     "start_time": "2023-03-13T18:47:35.670466",
     "status": "completed"
    },
    "tags": []
   },
   "outputs": [],
   "source": [
    "def my_dice(target, prediction):\n",
    " intersection = np.logical_and(target, prediction)\n",
    " union = np.logical_or(target, prediction)\n",
    " dice = (2*np.sum(intersection))/(np.sum(union)+np.sum(intersection))\n",
    " return dice"
   ]
  },
  {
   "cell_type": "code",
   "execution_count": 15,
   "id": "1c4b921d",
   "metadata": {
    "execution": {
     "iopub.execute_input": "2023-03-13T18:47:39.032311Z",
     "iopub.status.busy": "2023-03-13T18:47:39.030614Z",
     "iopub.status.idle": "2023-03-13T18:47:39.032938Z",
     "shell.execute_reply": "2023-03-13T18:47:39.033369Z",
     "shell.execute_reply.started": "2022-10-11T11:19:58.451278Z"
    },
    "papermill": {
     "duration": 1.068284,
     "end_time": "2023-03-13T18:47:39.033546",
     "exception": false,
     "start_time": "2023-03-13T18:47:37.965262",
     "status": "completed"
    },
    "tags": []
   },
   "outputs": [],
   "source": [
    "def jaccard(target, prediction):\n",
    "    intersection = np.logical_and(target, prediction)\n",
    "    union = np.logical_or(target, prediction)\n",
    "    iou_score = np.sum(intersection) / np.sum(union)\n",
    "    return iou_score"
   ]
  },
  {
   "cell_type": "code",
   "execution_count": 16,
   "id": "4bfef648",
   "metadata": {
    "execution": {
     "iopub.execute_input": "2023-03-13T18:47:41.084719Z",
     "iopub.status.busy": "2023-03-13T18:47:41.083947Z",
     "iopub.status.idle": "2023-03-13T18:47:41.086404Z",
     "shell.execute_reply": "2023-03-13T18:47:41.086839Z",
     "shell.execute_reply.started": "2022-10-11T11:19:59.615547Z"
    },
    "papermill": {
     "duration": 1.027842,
     "end_time": "2023-03-13T18:47:41.086981",
     "exception": false,
     "start_time": "2023-03-13T18:47:40.059139",
     "status": "completed"
    },
    "tags": []
   },
   "outputs": [],
   "source": [
    "def quick_plot(img, msk):\n",
    "    plt.figure(figsize=(10, 10))   \n",
    "    plt.subplot(1, 2, 1)\n",
    "    plt.axis('off')\n",
    "    plt.imshow(img)\n",
    "    plt.title('image')\n",
    "\n",
    "    plt.subplot(1, 2, 2)\n",
    "    plt.axis('off')\n",
    "    plt.imshow(msk)\n",
    "    plt.title('mask')\n",
    "    plt.show()\n"
   ]
  },
  {
   "cell_type": "code",
   "execution_count": 17,
   "id": "528d4fee",
   "metadata": {
    "execution": {
     "iopub.execute_input": "2023-03-13T18:47:43.145283Z",
     "iopub.status.busy": "2023-03-13T18:47:43.144415Z",
     "iopub.status.idle": "2023-03-13T18:47:44.303382Z",
     "shell.execute_reply": "2023-03-13T18:47:44.302685Z",
     "shell.execute_reply.started": "2022-10-11T11:20:03.310236Z"
    },
    "papermill": {
     "duration": 2.201479,
     "end_time": "2023-03-13T18:47:44.303558",
     "exception": false,
     "start_time": "2023-03-13T18:47:42.102079",
     "status": "completed"
    },
    "tags": []
   },
   "outputs": [],
   "source": [
    "from tensorflow.keras.models import load_model\n",
    "\n",
    "model = load_model('./unet_backbone_vgg19.h5') "
   ]
  },
  {
   "cell_type": "markdown",
   "id": "8640cb81",
   "metadata": {
    "papermill": {
     "duration": 1.028538,
     "end_time": "2023-03-13T18:47:46.402646",
     "exception": false,
     "start_time": "2023-03-13T18:47:45.374108",
     "status": "completed"
    },
    "tags": []
   },
   "source": [
    "## **Evaluating on DRIVE**"
   ]
  },
  {
   "cell_type": "code",
   "execution_count": 18,
   "id": "69822911",
   "metadata": {
    "execution": {
     "iopub.execute_input": "2023-03-13T18:47:48.710252Z",
     "iopub.status.busy": "2023-03-13T18:47:48.709398Z",
     "iopub.status.idle": "2023-03-13T18:47:48.954002Z",
     "shell.execute_reply": "2023-03-13T18:47:48.954608Z",
     "shell.execute_reply.started": "2022-10-11T11:20:09.262864Z"
    },
    "papermill": {
     "duration": 1.514719,
     "end_time": "2023-03-13T18:47:48.954778",
     "exception": false,
     "start_time": "2023-03-13T18:47:47.440059",
     "status": "completed"
    },
    "tags": []
   },
   "outputs": [],
   "source": [
    "test_masks = np.concatenate([y for x, y in valid_dataset], axis=0)\n",
    "masks = test_masks.ravel()"
   ]
  },
  {
   "cell_type": "code",
   "execution_count": null,
   "id": "5bd87921",
   "metadata": {
    "execution": {
     "iopub.execute_input": "2023-03-13T18:47:51.004355Z",
     "iopub.status.busy": "2023-03-13T18:47:51.002859Z",
     "iopub.status.idle": "2023-03-13T18:47:54.619874Z",
     "shell.execute_reply": "2023-03-13T18:47:54.619400Z",
     "shell.execute_reply.started": "2022-10-11T11:20:10.906507Z"
    },
    "papermill": {
     "duration": 4.64581,
     "end_time": "2023-03-13T18:47:54.620009",
     "exception": false,
     "start_time": "2023-03-13T18:47:49.974199",
     "status": "completed"
    },
    "tags": []
   },
   "outputs": [],
   "source": [
    "test_imgs = np.concatenate([x for x, y in valid_dataset], axis=0)\n",
    "predictions = model.predict(test_imgs)\n",
    "predictions.shape"
   ]
  },
  {
   "cell_type": "code",
   "execution_count": null,
   "id": "0fd04315",
   "metadata": {
    "execution": {
     "iopub.execute_input": "2023-03-13T18:47:56.684679Z",
     "iopub.status.busy": "2023-03-13T18:47:56.683821Z",
     "iopub.status.idle": "2023-03-13T18:47:56.689993Z",
     "shell.execute_reply": "2023-03-13T18:47:56.689411Z",
     "shell.execute_reply.started": "2022-10-11T11:20:16.280599Z"
    },
    "papermill": {
     "duration": 1.057049,
     "end_time": "2023-03-13T18:47:56.690123",
     "exception": false,
     "start_time": "2023-03-13T18:47:55.633074",
     "status": "completed"
    },
    "tags": []
   },
   "outputs": [],
   "source": [
    "y_pred = predictions.ravel()\n",
    "y_pred = (y_pred > 0.5).astype('int32')\n",
    "y_pred"
   ]
  },
  {
   "cell_type": "code",
   "execution_count": null,
   "id": "45b32ac0",
   "metadata": {
    "execution": {
     "iopub.execute_input": "2023-03-13T18:47:58.765643Z",
     "iopub.status.busy": "2023-03-13T18:47:58.764826Z",
     "iopub.status.idle": "2023-03-13T18:48:00.336704Z",
     "shell.execute_reply": "2023-03-13T18:48:00.337396Z",
     "shell.execute_reply.started": "2022-10-11T11:20:52.814075Z"
    },
    "papermill": {
     "duration": 2.613642,
     "end_time": "2023-03-13T18:48:00.337640",
     "exception": false,
     "start_time": "2023-03-13T18:47:57.723998",
     "status": "completed"
    },
    "tags": []
   },
   "outputs": [],
   "source": [
    "from sklearn.metrics import classification_report\n",
    "print(classification_report(masks, y_pred))"
   ]
  },
  {
   "cell_type": "code",
   "execution_count": null,
   "id": "d4be728f",
   "metadata": {
    "execution": {
     "iopub.execute_input": "2023-03-13T18:48:02.407675Z",
     "iopub.status.busy": "2023-03-13T18:48:02.406597Z",
     "iopub.status.idle": "2023-03-13T18:48:02.414902Z",
     "shell.execute_reply": "2023-03-13T18:48:02.415505Z",
     "shell.execute_reply.started": "2022-10-11T11:21:01.216115Z"
    },
    "papermill": {
     "duration": 1.050094,
     "end_time": "2023-03-13T18:48:02.415695",
     "exception": false,
     "start_time": "2023-03-13T18:48:01.365601",
     "status": "completed"
    },
    "tags": []
   },
   "outputs": [],
   "source": [
    "print('The Jaccard Score is: ', jaccard(y_pred, masks))"
   ]
  },
  {
   "cell_type": "code",
   "execution_count": null,
   "id": "a09f5908",
   "metadata": {
    "execution": {
     "iopub.execute_input": "2023-03-13T18:48:04.991768Z",
     "iopub.status.busy": "2023-03-13T18:48:04.990925Z",
     "iopub.status.idle": "2023-03-13T18:48:05.000807Z",
     "shell.execute_reply": "2023-03-13T18:48:05.001388Z",
     "shell.execute_reply.started": "2022-10-11T11:21:07.897967Z"
    },
    "papermill": {
     "duration": 1.559609,
     "end_time": "2023-03-13T18:48:05.001598",
     "exception": false,
     "start_time": "2023-03-13T18:48:03.441989",
     "status": "completed"
    },
    "tags": []
   },
   "outputs": [],
   "source": [
    "print('The Dice Score is: ', my_dice(y_pred, masks))"
   ]
  },
  {
   "cell_type": "markdown",
   "id": "74215283",
   "metadata": {
    "papermill": {
     "duration": 1.176453,
     "end_time": "2023-03-13T18:48:07.184860",
     "exception": false,
     "start_time": "2023-03-13T18:48:06.008407",
     "status": "completed"
    },
    "tags": []
   },
   "source": [
    "## Sample Prediction"
   ]
  },
  {
   "cell_type": "code",
   "execution_count": null,
   "id": "cc59c4ed",
   "metadata": {
    "execution": {
     "iopub.execute_input": "2023-03-13T18:48:09.275159Z",
     "iopub.status.busy": "2023-03-13T18:48:09.274206Z",
     "iopub.status.idle": "2023-03-13T18:48:09.616190Z",
     "shell.execute_reply": "2023-03-13T18:48:09.616659Z",
     "shell.execute_reply.started": "2022-10-11T11:21:54.766273Z"
    },
    "papermill": {
     "duration": 1.399333,
     "end_time": "2023-03-13T18:48:09.616832",
     "exception": false,
     "start_time": "2023-03-13T18:48:08.217499",
     "status": "completed"
    },
    "tags": []
   },
   "outputs": [],
   "source": [
    "image = test_imgs[4]\n",
    "mask = test_masks[4]\n",
    "image = np.expand_dims(image, axis=0)\n",
    "pred_mask = model.predict(image)\n",
    "pred_mask = (pred_mask > 0.5).astype('int32')\n",
    "plt.figure(figsize=(10,5))\n",
    "plt.subplot(121)\n",
    "plt.title('Original Mask')\n",
    "plt.imshow(mask, cmap='gray')\n",
    "plt.axis('off')\n",
    "plt.subplot(122)\n",
    "plt.title('Predicted Mask')\n",
    "plt.imshow(pred_mask[0], cmap='gray')\n",
    "plt.axis('off')"
   ]
  }
 ],
 "metadata": {
  "kernelspec": {
   "display_name": "Python 3",
   "language": "python",
   "name": "python3"
  },
  "language_info": {
   "codemirror_mode": {
    "name": "ipython",
    "version": 3
   },
   "file_extension": ".py",
   "mimetype": "text/x-python",
   "name": "python",
   "nbconvert_exporter": "python",
   "pygments_lexer": "ipython3",
   "version": "3.7.12"
  },
  "papermill": {
   "default_parameters": {},
   "duration": 1278.253128,
   "end_time": "2023-03-13T18:53:32.743327",
   "environment_variables": {},
   "exception": null,
   "input_path": "__notebook__.ipynb",
   "output_path": "__notebook__.ipynb",
   "parameters": {},
   "start_time": "2023-03-13T18:32:14.490199",
   "version": "2.3.3"
  }
 },
 "nbformat": 4,
 "nbformat_minor": 5
}
